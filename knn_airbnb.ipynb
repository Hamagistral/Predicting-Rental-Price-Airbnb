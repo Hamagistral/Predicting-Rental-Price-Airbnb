{
 "cells": [
  {
   "cell_type": "markdown",
   "metadata": {},
   "source": [
    "# Prédiction du prix de locations d'appartements sur Airbnb"
   ]
  },
  {
   "cell_type": "markdown",
   "metadata": {},
   "source": [
    "Projet fin d'études effectué au sein de la Faculté de Sciences et Techniques Mohammedia (FSTM) par EL BELGHITI Hamza pour l'obtention de la licence en Mathématiques Appliquées."
   ]
  },
  {
   "cell_type": "markdown",
   "metadata": {},
   "source": [
    "### I. Introduction\n",
    "\n",
    "Airbnb est une plateforme de marché Internet pour les locations de maisons et d’appartements à court terme. La plateforme permet à un utilisateur, par exemple, de louer son appartement pour une semaine pendant son absence, ou de louer sa chambre d’amis à des voyageurs. La société elle-même a connu une croissance rapide depuis sa création en 2008, jusqu'à une valorisation de plus de 70 milliards de dollars américains en 2022.\n",
    "\n",
    "L’un des défis auxquels les hôtes Airbnb sont confrontés est de déterminer le prix de\n",
    "location optimal par nuit. Les locataires potentiels peuvent filtrer les appartements selon des\n",
    "critères tels que le prix, le nombre de chambres, le type de chambre, etc. Etant donné que \n",
    "Airbnb est une place de marché, le montant qu’un hôte peut facturer par nuit est étroitement\n",
    "lié à la dynamique de la place de marché"
   ]
  },
  {
   "cell_type": "markdown",
   "metadata": {},
   "source": [
    "### II. Importation de la base de données"
   ]
  },
  {
   "cell_type": "markdown",
   "metadata": {},
   "source": [
    "##### Imporation des packages"
   ]
  },
  {
   "cell_type": "code",
   "execution_count": 2,
   "metadata": {},
   "outputs": [],
   "source": [
    "%matplotlib inline\n",
    "import pandas as pd\n",
    "import numpy as np\n",
    "from scipy.spatial import distance\n",
    "import seaborn as sns\n",
    "import matplotlib.pyplot as plt  \n",
    "from sklearn.neighbors import KNeighborsRegressor\n",
    "from sklearn.metrics import mean_absolute_error, mean_squared_error\n",
    "from sklearn.model_selection import train_test_split\n",
    "from sklearn.model_selection import GridSearchCV\n",
    "\n",
    "color = sns.color_palette()\n",
    "sns.set_style('darkgrid')"
   ]
  },
  {
   "cell_type": "code",
   "execution_count": 3,
   "metadata": {},
   "outputs": [
    {
     "name": "stdout",
     "output_type": "stream",
     "text": [
      "(3723, 92)\n"
     ]
    },
    {
     "data": {
      "text/html": [
       "<div>\n",
       "<style scoped>\n",
       "    .dataframe tbody tr th:only-of-type {\n",
       "        vertical-align: middle;\n",
       "    }\n",
       "\n",
       "    .dataframe tbody tr th {\n",
       "        vertical-align: top;\n",
       "    }\n",
       "\n",
       "    .dataframe thead th {\n",
       "        text-align: right;\n",
       "    }\n",
       "</style>\n",
       "<table border=\"1\" class=\"dataframe\">\n",
       "  <thead>\n",
       "    <tr style=\"text-align: right;\">\n",
       "      <th></th>\n",
       "      <th>id</th>\n",
       "      <th>listing_url</th>\n",
       "      <th>scrape_id</th>\n",
       "      <th>last_scraped</th>\n",
       "      <th>name</th>\n",
       "      <th>summary</th>\n",
       "      <th>space</th>\n",
       "      <th>description</th>\n",
       "      <th>experiences_offered</th>\n",
       "      <th>neighborhood_overview</th>\n",
       "      <th>...</th>\n",
       "      <th>review_scores_value</th>\n",
       "      <th>requires_license</th>\n",
       "      <th>license</th>\n",
       "      <th>jurisdiction_names</th>\n",
       "      <th>instant_bookable</th>\n",
       "      <th>cancellation_policy</th>\n",
       "      <th>require_guest_profile_picture</th>\n",
       "      <th>require_guest_phone_verification</th>\n",
       "      <th>calculated_host_listings_count</th>\n",
       "      <th>reviews_per_month</th>\n",
       "    </tr>\n",
       "  </thead>\n",
       "  <tbody>\n",
       "    <tr>\n",
       "      <th>0</th>\n",
       "      <td>7087327</td>\n",
       "      <td>https://www.airbnb.com/rooms/7087327</td>\n",
       "      <td>20151002231825</td>\n",
       "      <td>2015-10-03</td>\n",
       "      <td>Historic DC Condo-Walk to Capitol!</td>\n",
       "      <td>Professional pictures coming soon! Welcome to ...</td>\n",
       "      <td>NaN</td>\n",
       "      <td>Professional pictures coming soon! Welcome to ...</td>\n",
       "      <td>none</td>\n",
       "      <td>NaN</td>\n",
       "      <td>...</td>\n",
       "      <td>NaN</td>\n",
       "      <td>f</td>\n",
       "      <td>NaN</td>\n",
       "      <td>DISTRICT OF COLUMBIA, WASHINGTON</td>\n",
       "      <td>f</td>\n",
       "      <td>flexible</td>\n",
       "      <td>f</td>\n",
       "      <td>f</td>\n",
       "      <td>18</td>\n",
       "      <td>NaN</td>\n",
       "    </tr>\n",
       "    <tr>\n",
       "      <th>1</th>\n",
       "      <td>975833</td>\n",
       "      <td>https://www.airbnb.com/rooms/975833</td>\n",
       "      <td>20151002231825</td>\n",
       "      <td>2015-10-03</td>\n",
       "      <td>Spacious Capitol Hill Townhouse</td>\n",
       "      <td>NaN</td>\n",
       "      <td>Beautifully renovated Capitol Hill townhouse. ...</td>\n",
       "      <td>Beautifully renovated Capitol Hill townhouse. ...</td>\n",
       "      <td>none</td>\n",
       "      <td>NaN</td>\n",
       "      <td>...</td>\n",
       "      <td>9.0</td>\n",
       "      <td>f</td>\n",
       "      <td>NaN</td>\n",
       "      <td>DISTRICT OF COLUMBIA, WASHINGTON</td>\n",
       "      <td>f</td>\n",
       "      <td>strict</td>\n",
       "      <td>f</td>\n",
       "      <td>f</td>\n",
       "      <td>1</td>\n",
       "      <td>2.11</td>\n",
       "    </tr>\n",
       "    <tr>\n",
       "      <th>2</th>\n",
       "      <td>8249488</td>\n",
       "      <td>https://www.airbnb.com/rooms/8249488</td>\n",
       "      <td>20151002231825</td>\n",
       "      <td>2015-10-03</td>\n",
       "      <td>Spacious/private room for single</td>\n",
       "      <td>This is an ideal room for a single traveler th...</td>\n",
       "      <td>NaN</td>\n",
       "      <td>This is an ideal room for a single traveler th...</td>\n",
       "      <td>none</td>\n",
       "      <td>NaN</td>\n",
       "      <td>...</td>\n",
       "      <td>NaN</td>\n",
       "      <td>f</td>\n",
       "      <td>NaN</td>\n",
       "      <td>NaN</td>\n",
       "      <td>f</td>\n",
       "      <td>flexible</td>\n",
       "      <td>f</td>\n",
       "      <td>f</td>\n",
       "      <td>1</td>\n",
       "      <td>1.00</td>\n",
       "    </tr>\n",
       "    <tr>\n",
       "      <th>3</th>\n",
       "      <td>8409022</td>\n",
       "      <td>https://www.airbnb.com/rooms/8409022</td>\n",
       "      <td>20151002231825</td>\n",
       "      <td>2015-10-03</td>\n",
       "      <td>A wonderful bedroom with library</td>\n",
       "      <td>Prime location right on the Potomac River in W...</td>\n",
       "      <td>NaN</td>\n",
       "      <td>Prime location right on the Potomac River in W...</td>\n",
       "      <td>none</td>\n",
       "      <td>NaN</td>\n",
       "      <td>...</td>\n",
       "      <td>NaN</td>\n",
       "      <td>f</td>\n",
       "      <td>NaN</td>\n",
       "      <td>DISTRICT OF COLUMBIA, WASHINGTON</td>\n",
       "      <td>f</td>\n",
       "      <td>flexible</td>\n",
       "      <td>f</td>\n",
       "      <td>f</td>\n",
       "      <td>1</td>\n",
       "      <td>NaN</td>\n",
       "    </tr>\n",
       "    <tr>\n",
       "      <th>4</th>\n",
       "      <td>8411173</td>\n",
       "      <td>https://www.airbnb.com/rooms/8411173</td>\n",
       "      <td>20151002231825</td>\n",
       "      <td>2015-10-03</td>\n",
       "      <td>Downtown Silver Spring</td>\n",
       "      <td>Hi travellers! I live in this peaceful spot, b...</td>\n",
       "      <td>This is a 750 sq ft 1 bedroom 1 bathroom.  Whi...</td>\n",
       "      <td>Hi travellers! I live in this peaceful spot, b...</td>\n",
       "      <td>none</td>\n",
       "      <td>Silver Spring is booming.  You can walk to a n...</td>\n",
       "      <td>...</td>\n",
       "      <td>NaN</td>\n",
       "      <td>f</td>\n",
       "      <td>NaN</td>\n",
       "      <td>NaN</td>\n",
       "      <td>f</td>\n",
       "      <td>flexible</td>\n",
       "      <td>f</td>\n",
       "      <td>f</td>\n",
       "      <td>1</td>\n",
       "      <td>NaN</td>\n",
       "    </tr>\n",
       "  </tbody>\n",
       "</table>\n",
       "<p>5 rows × 92 columns</p>\n",
       "</div>"
      ],
      "text/plain": [
       "        id                           listing_url       scrape_id last_scraped  \\\n",
       "0  7087327  https://www.airbnb.com/rooms/7087327  20151002231825   2015-10-03   \n",
       "1   975833   https://www.airbnb.com/rooms/975833  20151002231825   2015-10-03   \n",
       "2  8249488  https://www.airbnb.com/rooms/8249488  20151002231825   2015-10-03   \n",
       "3  8409022  https://www.airbnb.com/rooms/8409022  20151002231825   2015-10-03   \n",
       "4  8411173  https://www.airbnb.com/rooms/8411173  20151002231825   2015-10-03   \n",
       "\n",
       "                                 name  \\\n",
       "0  Historic DC Condo-Walk to Capitol!   \n",
       "1     Spacious Capitol Hill Townhouse   \n",
       "2    Spacious/private room for single   \n",
       "3    A wonderful bedroom with library   \n",
       "4              Downtown Silver Spring   \n",
       "\n",
       "                                             summary  \\\n",
       "0  Professional pictures coming soon! Welcome to ...   \n",
       "1                                                NaN   \n",
       "2  This is an ideal room for a single traveler th...   \n",
       "3  Prime location right on the Potomac River in W...   \n",
       "4  Hi travellers! I live in this peaceful spot, b...   \n",
       "\n",
       "                                               space  \\\n",
       "0                                                NaN   \n",
       "1  Beautifully renovated Capitol Hill townhouse. ...   \n",
       "2                                                NaN   \n",
       "3                                                NaN   \n",
       "4  This is a 750 sq ft 1 bedroom 1 bathroom.  Whi...   \n",
       "\n",
       "                                         description experiences_offered  \\\n",
       "0  Professional pictures coming soon! Welcome to ...                none   \n",
       "1  Beautifully renovated Capitol Hill townhouse. ...                none   \n",
       "2  This is an ideal room for a single traveler th...                none   \n",
       "3  Prime location right on the Potomac River in W...                none   \n",
       "4  Hi travellers! I live in this peaceful spot, b...                none   \n",
       "\n",
       "                               neighborhood_overview  ... review_scores_value  \\\n",
       "0                                                NaN  ...                 NaN   \n",
       "1                                                NaN  ...                 9.0   \n",
       "2                                                NaN  ...                 NaN   \n",
       "3                                                NaN  ...                 NaN   \n",
       "4  Silver Spring is booming.  You can walk to a n...  ...                 NaN   \n",
       "\n",
       "  requires_license license                jurisdiction_names instant_bookable  \\\n",
       "0                f     NaN  DISTRICT OF COLUMBIA, WASHINGTON                f   \n",
       "1                f     NaN  DISTRICT OF COLUMBIA, WASHINGTON                f   \n",
       "2                f     NaN                               NaN                f   \n",
       "3                f     NaN  DISTRICT OF COLUMBIA, WASHINGTON                f   \n",
       "4                f     NaN                               NaN                f   \n",
       "\n",
       "  cancellation_policy  require_guest_profile_picture  \\\n",
       "0            flexible                              f   \n",
       "1              strict                              f   \n",
       "2            flexible                              f   \n",
       "3            flexible                              f   \n",
       "4            flexible                              f   \n",
       "\n",
       "  require_guest_phone_verification calculated_host_listings_count  \\\n",
       "0                                f                             18   \n",
       "1                                f                              1   \n",
       "2                                f                              1   \n",
       "3                                f                              1   \n",
       "4                                f                              1   \n",
       "\n",
       "  reviews_per_month  \n",
       "0               NaN  \n",
       "1              2.11  \n",
       "2              1.00  \n",
       "3               NaN  \n",
       "4               NaN  \n",
       "\n",
       "[5 rows x 92 columns]"
      ]
     },
     "execution_count": 3,
     "metadata": {},
     "output_type": "execute_result"
    }
   ],
   "source": [
    "dc_listings = pd.read_csv('dc_airbnb.csv')  \n",
    "                                             \n",
    "print(dc_listings.shape)\n",
    "dc_listings.head()"
   ]
  },
  {
   "cell_type": "markdown",
   "metadata": {},
   "source": [
    "### III. Exploration de l'ensemble de donnée"
   ]
  },
  {
   "cell_type": "code",
   "execution_count": 4,
   "metadata": {},
   "outputs": [
    {
     "name": "stdout",
     "output_type": "stream",
     "text": [
      "<class 'pandas.core.frame.DataFrame'>\n",
      "RangeIndex: 3723 entries, 0 to 3722\n",
      "Data columns (total 92 columns):\n",
      " #   Column                            Non-Null Count  Dtype  \n",
      "---  ------                            --------------  -----  \n",
      " 0   id                                3723 non-null   int64  \n",
      " 1   listing_url                       3723 non-null   object \n",
      " 2   scrape_id                         3723 non-null   int64  \n",
      " 3   last_scraped                      3723 non-null   object \n",
      " 4   name                              3723 non-null   object \n",
      " 5   summary                           3457 non-null   object \n",
      " 6   space                             2977 non-null   object \n",
      " 7   description                       3722 non-null   object \n",
      " 8   experiences_offered               3723 non-null   object \n",
      " 9   neighborhood_overview             2469 non-null   object \n",
      " 10  notes                             1712 non-null   object \n",
      " 11  transit                           2588 non-null   object \n",
      " 12  thumbnail_url                     3690 non-null   object \n",
      " 13  medium_url                        3690 non-null   object \n",
      " 14  picture_url                       3723 non-null   object \n",
      " 15  xl_picture_url                    3690 non-null   object \n",
      " 16  host_id                           3723 non-null   int64  \n",
      " 17  host_url                          3723 non-null   object \n",
      " 18  host_name                         3723 non-null   object \n",
      " 19  host_since                        3723 non-null   object \n",
      " 20  host_location                     3717 non-null   object \n",
      " 21  host_about                        2763 non-null   object \n",
      " 22  host_response_time                3289 non-null   object \n",
      " 23  host_response_rate                3289 non-null   object \n",
      " 24  host_acceptance_rate              3109 non-null   object \n",
      " 25  host_is_superhost                 3723 non-null   object \n",
      " 26  host_thumbnail_url                3723 non-null   object \n",
      " 27  host_picture_url                  3723 non-null   object \n",
      " 28  host_neighbourhood                3461 non-null   object \n",
      " 29  host_listings_count               3723 non-null   int64  \n",
      " 30  host_total_listings_count         3723 non-null   int64  \n",
      " 31  host_verifications                3723 non-null   object \n",
      " 32  host_has_profile_pic              3723 non-null   object \n",
      " 33  host_identity_verified            3723 non-null   object \n",
      " 34  street                            3723 non-null   object \n",
      " 35  neighbourhood                     3370 non-null   object \n",
      " 36  neighbourhood_cleansed            3723 non-null   object \n",
      " 37  neighbourhood_group_cleansed      0 non-null      float64\n",
      " 38  city                              3723 non-null   object \n",
      " 39  state                             3723 non-null   object \n",
      " 40  zipcode                           3714 non-null   object \n",
      " 41  market                            3723 non-null   object \n",
      " 42  smart_location                    3723 non-null   object \n",
      " 43  country_code                      3723 non-null   object \n",
      " 44  country                           3723 non-null   object \n",
      " 45  latitude                          3723 non-null   float64\n",
      " 46  longitude                         3723 non-null   float64\n",
      " 47  is_location_exact                 3723 non-null   object \n",
      " 48  property_type                     3722 non-null   object \n",
      " 49  room_type                         3723 non-null   object \n",
      " 50  accommodates                      3723 non-null   int64  \n",
      " 51  bathrooms                         3696 non-null   float64\n",
      " 52  bedrooms                          3702 non-null   float64\n",
      " 53  beds                              3712 non-null   float64\n",
      " 54  bed_type                          3723 non-null   object \n",
      " 55  amenities                         3723 non-null   object \n",
      " 56  square_feet                       82 non-null     float64\n",
      " 57  price                             3723 non-null   object \n",
      " 58  weekly_price                      2124 non-null   object \n",
      " 59  monthly_price                     1807 non-null   object \n",
      " 60  security_deposit                  1426 non-null   object \n",
      " 61  cleaning_fee                      2335 non-null   object \n",
      " 62  guests_included                   3723 non-null   int64  \n",
      " 63  extra_people                      3723 non-null   object \n",
      " 64  minimum_nights                    3723 non-null   int64  \n",
      " 65  maximum_nights                    3723 non-null   int64  \n",
      " 66  calendar_updated                  3723 non-null   object \n",
      " 67  has_availability                  3723 non-null   object \n",
      " 68  availability_30                   3723 non-null   int64  \n",
      " 69  availability_60                   3723 non-null   int64  \n",
      " 70  availability_90                   3723 non-null   int64  \n",
      " 71  availability_365                  3723 non-null   int64  \n",
      " 72  calendar_last_scraped             3723 non-null   object \n",
      " 73  number_of_reviews                 3723 non-null   int64  \n",
      " 74  first_review                      2893 non-null   object \n",
      " 75  last_review                       2893 non-null   object \n",
      " 76  review_scores_rating              2855 non-null   float64\n",
      " 77  review_scores_accuracy            2848 non-null   float64\n",
      " 78  review_scores_cleanliness         2847 non-null   float64\n",
      " 79  review_scores_checkin             2847 non-null   float64\n",
      " 80  review_scores_communication       2851 non-null   float64\n",
      " 81  review_scores_location            2851 non-null   float64\n",
      " 82  review_scores_value               2851 non-null   float64\n",
      " 83  requires_license                  3723 non-null   object \n",
      " 84  license                           1 non-null      float64\n",
      " 85  jurisdiction_names                3697 non-null   object \n",
      " 86  instant_bookable                  3723 non-null   object \n",
      " 87  cancellation_policy               3723 non-null   object \n",
      " 88  require_guest_profile_picture     3723 non-null   object \n",
      " 89  require_guest_phone_verification  3723 non-null   object \n",
      " 90  calculated_host_listings_count    3723 non-null   int64  \n",
      " 91  reviews_per_month                 2893 non-null   float64\n",
      "dtypes: float64(16), int64(15), object(61)\n",
      "memory usage: 2.6+ MB\n"
     ]
    }
   ],
   "source": [
    "dc_listings.info()"
   ]
  },
  {
   "cell_type": "markdown",
   "metadata": {},
   "source": [
    "Notre ensemble de données contient 3723 lignes (observations) avec 92 colonnes (caracteristiques). Pour notre cas, nous nous intéresserons seulement aux colonnes les plus importantes, car ce sont toutes les caracteristiques qu’un locataire pourrait utiliser pour evaluer quelle annonce choisir, selon ses besoins :"
   ]
  },
  {
   "cell_type": "code",
   "execution_count": 5,
   "metadata": {},
   "outputs": [
    {
     "data": {
      "text/html": [
       "<div>\n",
       "<style scoped>\n",
       "    .dataframe tbody tr th:only-of-type {\n",
       "        vertical-align: middle;\n",
       "    }\n",
       "\n",
       "    .dataframe tbody tr th {\n",
       "        vertical-align: top;\n",
       "    }\n",
       "\n",
       "    .dataframe thead th {\n",
       "        text-align: right;\n",
       "    }\n",
       "</style>\n",
       "<table border=\"1\" class=\"dataframe\">\n",
       "  <thead>\n",
       "    <tr style=\"text-align: right;\">\n",
       "      <th></th>\n",
       "      <th>accommodates</th>\n",
       "      <th>bedrooms</th>\n",
       "      <th>bathrooms</th>\n",
       "      <th>beds</th>\n",
       "      <th>minimum_nights</th>\n",
       "      <th>maximum_nights</th>\n",
       "      <th>number_of_reviews</th>\n",
       "      <th>price</th>\n",
       "    </tr>\n",
       "  </thead>\n",
       "  <tbody>\n",
       "    <tr>\n",
       "      <th>0</th>\n",
       "      <td>4</td>\n",
       "      <td>1.0</td>\n",
       "      <td>1.0</td>\n",
       "      <td>2.0</td>\n",
       "      <td>1</td>\n",
       "      <td>1125</td>\n",
       "      <td>0</td>\n",
       "      <td>$160.00</td>\n",
       "    </tr>\n",
       "    <tr>\n",
       "      <th>1</th>\n",
       "      <td>6</td>\n",
       "      <td>3.0</td>\n",
       "      <td>3.0</td>\n",
       "      <td>3.0</td>\n",
       "      <td>2</td>\n",
       "      <td>30</td>\n",
       "      <td>65</td>\n",
       "      <td>$350.00</td>\n",
       "    </tr>\n",
       "    <tr>\n",
       "      <th>2</th>\n",
       "      <td>1</td>\n",
       "      <td>1.0</td>\n",
       "      <td>2.0</td>\n",
       "      <td>1.0</td>\n",
       "      <td>2</td>\n",
       "      <td>1125</td>\n",
       "      <td>1</td>\n",
       "      <td>$50.00</td>\n",
       "    </tr>\n",
       "    <tr>\n",
       "      <th>3</th>\n",
       "      <td>2</td>\n",
       "      <td>1.0</td>\n",
       "      <td>1.0</td>\n",
       "      <td>1.0</td>\n",
       "      <td>1</td>\n",
       "      <td>1125</td>\n",
       "      <td>0</td>\n",
       "      <td>$95.00</td>\n",
       "    </tr>\n",
       "    <tr>\n",
       "      <th>4</th>\n",
       "      <td>4</td>\n",
       "      <td>1.0</td>\n",
       "      <td>1.0</td>\n",
       "      <td>1.0</td>\n",
       "      <td>7</td>\n",
       "      <td>1125</td>\n",
       "      <td>0</td>\n",
       "      <td>$50.00</td>\n",
       "    </tr>\n",
       "  </tbody>\n",
       "</table>\n",
       "</div>"
      ],
      "text/plain": [
       "   accommodates  bedrooms  bathrooms  beds  minimum_nights  maximum_nights  \\\n",
       "0             4       1.0        1.0   2.0               1            1125   \n",
       "1             6       3.0        3.0   3.0               2              30   \n",
       "2             1       1.0        2.0   1.0               2            1125   \n",
       "3             2       1.0        1.0   1.0               1            1125   \n",
       "4             4       1.0        1.0   1.0               7            1125   \n",
       "\n",
       "   number_of_reviews    price  \n",
       "0                  0  $160.00  \n",
       "1                 65  $350.00  \n",
       "2                  1   $50.00  \n",
       "3                  0   $95.00  \n",
       "4                  0   $50.00  "
      ]
     },
     "execution_count": 5,
     "metadata": {},
     "output_type": "execute_result"
    }
   ],
   "source": [
    "features = [\"accommodates\",\"bedrooms\",\"bathrooms\",\"beds\",\"minimum_nights\",\"maximum_nights\",\"number_of_reviews\",\"price\"]\n",
    "dc_listings = dc_listings[features]\n",
    "dc_listings.head()"
   ]
  },
  {
   "cell_type": "markdown",
   "metadata": {},
   "source": [
    "Suppression des caractères parasites comme le $, la virgule etc..."
   ]
  },
  {
   "cell_type": "code",
   "execution_count": 6,
   "metadata": {},
   "outputs": [
    {
     "name": "stderr",
     "output_type": "stream",
     "text": [
      "C:\\Users\\hamza\\AppData\\Local\\Temp\\ipykernel_5572\\929158914.py:1: FutureWarning: The default value of regex will change from True to False in a future version.\n",
      "  dc_listings['price'] = dc_listings.price.str.replace(\"\\$|,\",'').astype(float)\n"
     ]
    }
   ],
   "source": [
    "dc_listings['price'] = dc_listings.price.str.replace(\"\\$|,\",'').astype(float)"
   ]
  },
  {
   "cell_type": "markdown",
   "metadata": {},
   "source": [
    "##### Visualisation des données"
   ]
  },
  {
   "cell_type": "code",
   "execution_count": 7,
   "metadata": {},
   "outputs": [
    {
     "name": "stderr",
     "output_type": "stream",
     "text": [
      "c:\\Users\\hamza\\AppData\\Local\\Programs\\Python\\Python39\\lib\\site-packages\\seaborn\\distributions.py:2619: FutureWarning: `distplot` is a deprecated function and will be removed in a future version. Please adapt your code to use either `displot` (a figure-level function with similar flexibility) or `histplot` (an axes-level function for histograms).\n",
      "  warnings.warn(msg, FutureWarning)\n"
     ]
    },
    {
     "data": {
      "text/plain": [
       "<AxesSubplot:xlabel='price', ylabel='Density'>"
      ]
     },
     "execution_count": 7,
     "metadata": {},
     "output_type": "execute_result"
    },
    {
     "data": {
      "image/png": "[encoded data removed]",
      "text/plain": [
       "<Figure size 432x288 with 1 Axes>"
      ]
     },
     "metadata": {},
     "output_type": "display_data"
    }
   ],
   "source": [
    "sns.distplot(dc_listings['price'])"
   ]
  },
  {
   "cell_type": "code",
   "execution_count": 8,
   "metadata": {},
   "outputs": [
    {
     "data": {
      "text/plain": [
       "<AxesSubplot:xlabel='accommodates', ylabel='price'>"
      ]
     },
     "execution_count": 8,
     "metadata": {},
     "output_type": "execute_result"
    },
    {
     "data": {
      "image/png": "[encoded data removed]",
      "text/plain": [
       "<Figure size 432x288 with 1 Axes>"
      ]
     },
     "metadata": {},
     "output_type": "display_data"
    }
   ],
   "source": [
    "var = 'accommodates'\n",
    "data = pd.concat([dc_listings['price'], dc_listings[var]], axis=1)\n",
    "data.plot.scatter(x=var, y='price')"
   ]
  },
  {
   "cell_type": "code",
   "execution_count": 10,
   "metadata": {},
   "outputs": [
    {
     "data": {
      "text/plain": [
       "<AxesSubplot:xlabel='bedrooms', ylabel='price'>"
      ]
     },
     "execution_count": 10,
     "metadata": {},
     "output_type": "execute_result"
    },
    {
     "data": {
      "image/png": "[encoded data removed]",
      "text/plain": [
       "<Figure size 432x288 with 1 Axes>"
      ]
     },
     "metadata": {},
     "output_type": "display_data"
    }
   ],
   "source": [
    "var = 'bedrooms'\n",
    "data = pd.concat([dc_listings['price'], dc_listings[var]], axis=1)\n",
    "data.plot.scatter(x=var, y='price')"
   ]
  },
  {
   "cell_type": "code",
   "execution_count": 11,
   "metadata": {},
   "outputs": [
    {
     "data": {
      "text/plain": [
       "<AxesSubplot:xlabel='bathrooms', ylabel='price'>"
      ]
     },
     "execution_count": 11,
     "metadata": {},
     "output_type": "execute_result"
    },
    {
     "data": {
      "image/png": "[encoded data removed]",
      "text/plain": [
       "<Figure size 432x288 with 1 Axes>"
      ]
     },
     "metadata": {},
     "output_type": "display_data"
    }
   ],
   "source": [
    "var = 'bathrooms'\n",
    "data = pd.concat([dc_listings['price'], dc_listings[var]], axis=1)\n",
    "data.plot.scatter(x=var, y='price')"
   ]
  },
  {
   "cell_type": "code",
   "execution_count": 9,
   "metadata": {},
   "outputs": [
    {
     "data": {
      "text/plain": [
       "<AxesSubplot:xlabel='beds', ylabel='price'>"
      ]
     },
     "execution_count": 9,
     "metadata": {},
     "output_type": "execute_result"
    },
    {
     "data": {
      "image/png": "[encoded data removed]",
      "text/plain": [
       "<Figure size 432x288 with 1 Axes>"
      ]
     },
     "metadata": {},
     "output_type": "display_data"
    }
   ],
   "source": [
    "var = 'beds'\n",
    "data = pd.concat([dc_listings['price'], dc_listings[var]], axis=1)\n",
    "data.plot.scatter(x=var, y='price')"
   ]
  },
  {
   "cell_type": "markdown",
   "metadata": {},
   "source": [
    "Valeurs manquantes"
   ]
  },
  {
   "cell_type": "code",
   "execution_count": 12,
   "metadata": {},
   "outputs": [
    {
     "data": {
      "text/plain": [
       "accommodates          0\n",
       "bedrooms             21\n",
       "bathrooms            27\n",
       "beds                 11\n",
       "minimum_nights        0\n",
       "maximum_nights        0\n",
       "number_of_reviews     0\n",
       "price                 0\n",
       "dtype: int64"
      ]
     },
     "execution_count": 12,
     "metadata": {},
     "output_type": "execute_result"
    }
   ],
   "source": [
    "dc_listings.isna().sum()                        "
   ]
  },
  {
   "cell_type": "markdown",
   "metadata": {},
   "source": [
    "Etant donné que le nombre de lignes contenant une ou plusieurs valeurs manquantes  pour ces 3 colonnes est faible, nous pouvons sélectionner et supprimer ces lignes sans perdre  beaucoup d’informations  "
   ]
  },
  {
   "cell_type": "code",
   "execution_count": 13,
   "metadata": {},
   "outputs": [],
   "source": [
    "dc_listings.dropna(subset=['bedrooms','bathrooms','beds'], axis=0, how='any', inplace=True )"
   ]
  },
  {
   "cell_type": "markdown",
   "metadata": {},
   "source": [
    "### Matrice de correlation"
   ]
  },
  {
   "cell_type": "code",
   "execution_count": 14,
   "metadata": {},
   "outputs": [
    {
     "data": {
      "text/plain": [
       "<AxesSubplot:>"
      ]
     },
     "execution_count": 14,
     "metadata": {},
     "output_type": "execute_result"
    },
    {
     "data": {
      "image/png": "[encoded data removed]",
      "text/plain": [
       "<Figure size 864x648 with 2 Axes>"
      ]
     },
     "metadata": {},
     "output_type": "display_data"
    }
   ],
   "source": [
    "corrmat = dc_listings.corr()\n",
    "plt.subplots(figsize=(12,9))\n",
    "sns.heatmap(corrmat, vmax=0.9, annot=True, square=True)"
   ]
  },
  {
   "cell_type": "markdown",
   "metadata": {},
   "source": [
    "On peut observer que les colonnes accommodates, bedrooms, bathrooms et beds sont les plus corrélées avec le prix. Cependant beds et accommodates sont aussi étroitement corrélés."
   ]
  },
  {
   "cell_type": "markdown",
   "metadata": {},
   "source": [
    "## IV. Creation et évaluation du modèle"
   ]
  },
  {
   "cell_type": "markdown",
   "metadata": {},
   "source": [
    "Nous implémenterons l’algorithme des K plus proches voisins et l’utiliserons pour suggérer\n",
    "un prix pour une nouvelle annonce sur la plateforme. Pour cette première partie du projet,\n",
    "nous allons utiliser une valeur K fixe de 5, après on utilisera un algorithme K-NN depuis la \n",
    "librairie Scikit-Learn."
   ]
  },
  {
   "cell_type": "markdown",
   "metadata": {},
   "source": [
    "Supposons que l’appartement que nous souhaitons louer peut accueillir trois personnes, trouvons la valeur absolue de la difference entre l’observation et le point de donnees que nous voulons prédire pour la caractéristique que nous utilisons (accommodates)"
   ]
  },
  {
   "cell_type": "code",
   "execution_count": 15,
   "metadata": {},
   "outputs": [
    {
     "name": "stdout",
     "output_type": "stream",
     "text": [
      "1\n"
     ]
    }
   ],
   "source": [
    "our_acc_value = 3\n",
    "first_living_space_value = dc_listings.loc[0,'accommodates']\n",
    "first_distance = np.abs(first_living_space_value - our_acc_value)\n",
    "print(first_distance)"
   ]
  },
  {
   "cell_type": "code",
   "execution_count": 16,
   "metadata": {},
   "outputs": [
    {
     "data": {
      "text/plain": [
       "0      457\n",
       "1     2258\n",
       "2      497\n",
       "3      276\n",
       "4       35\n",
       "5       73\n",
       "6       17\n",
       "7       22\n",
       "8        7\n",
       "9        9\n",
       "10       2\n",
       "11       4\n",
       "12       6\n",
       "13       8\n",
       "Name: distance, dtype: int64"
      ]
     },
     "execution_count": 16,
     "metadata": {},
     "output_type": "execute_result"
    }
   ],
   "source": [
    "dc_listings['distance'] = np.abs(dc_listings.accommodates - our_acc_value)\n",
    "dc_listings.distance.value_counts().sort_index()"
   ]
  },
  {
   "cell_type": "markdown",
   "metadata": {},
   "source": [
    "On observe qu’il existe 457 annonces qui ont une distance de 0, et accueillent donc le\n",
    "meme nombre de personnes que notre appartement. Ces annonces pourraient êetre un bon\n",
    "point de depart."
   ]
  },
  {
   "cell_type": "code",
   "execution_count": 17,
   "metadata": {},
   "outputs": [
    {
     "data": {
      "text/plain": [
       "2541     50.0\n",
       "690     125.0\n",
       "3437    159.0\n",
       "1259    101.0\n",
       "2559    122.0\n",
       "Name: price, dtype: float64"
      ]
     },
     "execution_count": 17,
     "metadata": {},
     "output_type": "execute_result"
    }
   ],
   "source": [
    "dc_listings = dc_listings.sample(frac=1,random_state=0)\n",
    "dc_listings = dc_listings.sort_values('distance')\n",
    "dc_listings.price.head()"
   ]
  },
  {
   "cell_type": "code",
   "execution_count": 18,
   "metadata": {},
   "outputs": [
    {
     "name": "stdout",
     "output_type": "stream",
     "text": [
      "111.4\n"
     ]
    }
   ],
   "source": [
    "mean_price = dc_listings.price.iloc[:5].mean()\n",
    "print(mean_price)"
   ]
  },
  {
   "cell_type": "markdown",
   "metadata": {},
   "source": [
    "Nous avons maintenant fait notre première prédiction, notre modèle KNN nous a dit que \n",
    "lorsque nous n’utilisons que la colonne accommodates pour trouver un prix approprié pour \n",
    "notre annonce pour trois personnes, nous devrions louer notre appartement pour 111 $"
   ]
  },
  {
   "cell_type": "markdown",
   "metadata": {},
   "source": [
    "## V. Evaluation du modèle"
   ]
  },
  {
   "cell_type": "markdown",
   "metadata": {},
   "source": [
    "Division l’ensemble de donnees en 2 partitions : un esemble d'entraînement (75%) et un ensemble de test (25%)"
   ]
  },
  {
   "cell_type": "code",
   "execution_count": 19,
   "metadata": {},
   "outputs": [],
   "source": [
    "dc_listings.drop('distance',axis=1)\n",
    "\n",
    "train_df = dc_listings.copy().iloc[:2792]  # 75%    \n",
    "test_df = dc_listings.copy().iloc[2792:]   # 25%        "
   ]
  },
  {
   "cell_type": "markdown",
   "metadata": {},
   "source": [
    "Construction de la fonction KNN qui predit un prix moyen d’une nouvelle observation."
   ]
  },
  {
   "cell_type": "code",
   "execution_count": 20,
   "metadata": {},
   "outputs": [],
   "source": [
    "def predict_price(new_listing_value, feature_column):\n",
    "    temp_df = train_df\n",
    "    temp_df['distance'] = np.abs(dc_listings[feature_column] - new_listing_value)\n",
    "    temp_df = temp_df.sort_values('distance')\n",
    "    knn_5 = temp_df.price.iloc[:5]\n",
    "    predicted_price = knn_5.mean()\n",
    "    \n",
    "    return(predicted_price)"
   ]
  },
  {
   "cell_type": "markdown",
   "metadata": {},
   "source": [
    "Prediction des prix grâce à la fonction predict_price"
   ]
  },
  {
   "cell_type": "code",
   "execution_count": 21,
   "metadata": {},
   "outputs": [],
   "source": [
    "test_df['predicted_price'] = test_df.accommodates.apply(predict_price, feature_column='accommodates')"
   ]
  },
  {
   "cell_type": "markdown",
   "metadata": {},
   "source": [
    "Calculons la valeur RMSE pour les prédictions que nous avons faites sur \n",
    "l’ensemble de test "
   ]
  },
  {
   "cell_type": "code",
   "execution_count": 23,
   "metadata": {},
   "outputs": [
    {
     "name": "stdout",
     "output_type": "stream",
     "text": [
      "RMSE : 205.85\n",
      "MAE : 109.57\n"
     ]
    }
   ],
   "source": [
    "test_df['squared_error'] = (test_df['predicted_price'] - test_df['price'])**(2)\n",
    "\n",
    "print(\"RMSE : %.2f\" % mean_squared_error(test_df['price'], test_df['predicted_price'], squared=False))\n",
    "print(\"MAE : %.2f\" % mean_absolute_error(test_df['price'], test_df['predicted_price']))"
   ]
  },
  {
   "cell_type": "markdown",
   "metadata": {},
   "source": [
    "Créons d’autres modèle qui utilisent différentes colonnes/caractéristiques\n",
    "et regardons comment notre erreur varie :"
   ]
  },
  {
   "cell_type": "code",
   "execution_count": 24,
   "metadata": {},
   "outputs": [
    {
     "name": "stdout",
     "output_type": "stream",
     "text": [
      "RMSE for the accommodates column: 205.84578032771483\n",
      "RMSE for the bedrooms column: 210.43352704839972\n",
      "RMSE for the bathrooms column: 216.97133472192243\n",
      "RMSE for the number_of_reviews column: 244.1999279763679\n"
     ]
    }
   ],
   "source": [
    "for feature in ['accommodates','bedrooms','bathrooms','number_of_reviews']:\n",
    "    test_df['predicted_price'] = test_df.accommodates.apply(predict_price,feature_column=feature)\n",
    "    test_df['squared_error'] = (test_df['predicted_price'] - test_df['price'])**(2)\n",
    "    mse = test_df['squared_error'].mean()\n",
    "    rmse = mse ** (1/2)\n",
    "    \n",
    "    print(\"RMSE for the {} column: {}\".format(feature, rmse))"
   ]
  },
  {
   "cell_type": "markdown",
   "metadata": {},
   "source": [
    "Nous pouvons constater que le meilleur modele des quatre que nous avons formés est \n",
    "celui utilisant la colonne/caractéristique accommodates. Cependant, les taux d’erreur que\n",
    "nous obtenons sont assez elevés par rapport à la fourchette de prix des annonces dans \n",
    "notre ensemble de données."
   ]
  },
  {
   "cell_type": "markdown",
   "metadata": {},
   "source": [
    "# Normalisation de l'ensemble de données"
   ]
  },
  {
   "cell_type": "markdown",
   "metadata": {},
   "source": [
    "Pour eviter qu’une seule colonne ait un impact trop important sur la distance, \n",
    "nous pouvons normaliser toutes les colonnes pour avoir une moyenne de 0 et un ecart type \n",
    "de 1."
   ]
  },
  {
   "cell_type": "code",
   "execution_count": 25,
   "metadata": {},
   "outputs": [
    {
     "data": {
      "text/html": [
       "<div>\n",
       "<style scoped>\n",
       "    .dataframe tbody tr th:only-of-type {\n",
       "        vertical-align: middle;\n",
       "    }\n",
       "\n",
       "    .dataframe tbody tr th {\n",
       "        vertical-align: top;\n",
       "    }\n",
       "\n",
       "    .dataframe thead th {\n",
       "        text-align: right;\n",
       "    }\n",
       "</style>\n",
       "<table border=\"1\" class=\"dataframe\">\n",
       "  <thead>\n",
       "    <tr style=\"text-align: right;\">\n",
       "      <th></th>\n",
       "      <th>accommodates</th>\n",
       "      <th>bedrooms</th>\n",
       "      <th>bathrooms</th>\n",
       "      <th>beds</th>\n",
       "      <th>minimum_nights</th>\n",
       "      <th>maximum_nights</th>\n",
       "      <th>number_of_reviews</th>\n",
       "      <th>price</th>\n",
       "      <th>distance</th>\n",
       "    </tr>\n",
       "  </thead>\n",
       "  <tbody>\n",
       "    <tr>\n",
       "      <th>2541</th>\n",
       "      <td>-0.097589</td>\n",
       "      <td>-0.249467</td>\n",
       "      <td>-0.439151</td>\n",
       "      <td>-0.546858</td>\n",
       "      <td>-0.341375</td>\n",
       "      <td>-0.016573</td>\n",
       "      <td>-0.482505</td>\n",
       "      <td>50.0</td>\n",
       "      <td>-0.996634</td>\n",
       "    </tr>\n",
       "    <tr>\n",
       "      <th>690</th>\n",
       "      <td>-0.097589</td>\n",
       "      <td>-0.249467</td>\n",
       "      <td>-0.439151</td>\n",
       "      <td>-0.546858</td>\n",
       "      <td>-0.065038</td>\n",
       "      <td>-0.016573</td>\n",
       "      <td>-0.482505</td>\n",
       "      <td>125.0</td>\n",
       "      <td>-0.996634</td>\n",
       "    </tr>\n",
       "    <tr>\n",
       "      <th>3437</th>\n",
       "      <td>-0.097589</td>\n",
       "      <td>0.939875</td>\n",
       "      <td>1.264998</td>\n",
       "      <td>0.297345</td>\n",
       "      <td>0.763971</td>\n",
       "      <td>-0.016573</td>\n",
       "      <td>-0.448301</td>\n",
       "      <td>159.0</td>\n",
       "      <td>-0.996634</td>\n",
       "    </tr>\n",
       "    <tr>\n",
       "      <th>1259</th>\n",
       "      <td>-0.097589</td>\n",
       "      <td>-1.438810</td>\n",
       "      <td>-0.439151</td>\n",
       "      <td>-0.546858</td>\n",
       "      <td>-0.065038</td>\n",
       "      <td>-0.016573</td>\n",
       "      <td>-0.516709</td>\n",
       "      <td>101.0</td>\n",
       "      <td>-0.996634</td>\n",
       "    </tr>\n",
       "    <tr>\n",
       "      <th>2559</th>\n",
       "      <td>-0.097589</td>\n",
       "      <td>-0.249467</td>\n",
       "      <td>-0.439151</td>\n",
       "      <td>-0.546858</td>\n",
       "      <td>-0.065038</td>\n",
       "      <td>-0.016594</td>\n",
       "      <td>1.843350</td>\n",
       "      <td>122.0</td>\n",
       "      <td>-0.996634</td>\n",
       "    </tr>\n",
       "  </tbody>\n",
       "</table>\n",
       "</div>"
      ],
      "text/plain": [
       "      accommodates  bedrooms  bathrooms      beds  minimum_nights  \\\n",
       "2541     -0.097589 -0.249467  -0.439151 -0.546858       -0.341375   \n",
       "690      -0.097589 -0.249467  -0.439151 -0.546858       -0.065038   \n",
       "3437     -0.097589  0.939875   1.264998  0.297345        0.763971   \n",
       "1259     -0.097589 -1.438810  -0.439151 -0.546858       -0.065038   \n",
       "2559     -0.097589 -0.249467  -0.439151 -0.546858       -0.065038   \n",
       "\n",
       "      maximum_nights  number_of_reviews  price  distance  \n",
       "2541       -0.016573          -0.482505   50.0 -0.996634  \n",
       "690        -0.016573          -0.482505  125.0 -0.996634  \n",
       "3437       -0.016573          -0.448301  159.0 -0.996634  \n",
       "1259       -0.016573          -0.516709  101.0 -0.996634  \n",
       "2559       -0.016594           1.843350  122.0 -0.996634  "
      ]
     },
     "execution_count": 25,
     "metadata": {},
     "output_type": "execute_result"
    }
   ],
   "source": [
    "normalized_listings = (dc_listings - dc_listings.mean()) / (dc_listings.std())\n",
    "normalized_listings['price'] = dc_listings['price']\n",
    "normalized_listings.head()"
   ]
  },
  {
   "cell_type": "code",
   "execution_count": 26,
   "metadata": {},
   "outputs": [
    {
     "data": {
      "text/plain": [
       "(3671, 9)"
      ]
     },
     "execution_count": 26,
     "metadata": {},
     "output_type": "execute_result"
    }
   ],
   "source": [
    "normalized_listings.shape"
   ]
  },
  {
   "cell_type": "markdown",
   "metadata": {},
   "source": [
    "Division de l’ensemble de donnees en deux sous ensembles, un pour l’entraînement et un pour le test."
   ]
  },
  {
   "cell_type": "code",
   "execution_count": 28,
   "metadata": {},
   "outputs": [],
   "source": [
    "normalized_listings = normalized_listings.sample(frac=1,random_state=0)\n",
    "\n",
    "norm_train_df = normalized_listings.copy().iloc[0:2753] # 75%\n",
    "norm_test_df = normalized_listings.copy().iloc[2753:] # 25 %"
   ]
  },
  {
   "cell_type": "markdown",
   "metadata": {},
   "source": [
    "Utilisons la fonction euclidienne() pour calculer la distance euclidienne entre la première\n",
    "et la cinquième ligne de notre ensemble de données :"
   ]
  },
  {
   "cell_type": "code",
   "execution_count": 29,
   "metadata": {},
   "outputs": [
    {
     "name": "stdout",
     "output_type": "stream",
     "text": [
      "2.7441032572768944\n"
     ]
    }
   ],
   "source": [
    "first_listing = normalized_listings.iloc[0][['accommodates', 'bathrooms']]\n",
    "fifth_listing = normalized_listings.iloc[4][['accommodates', 'bathrooms']]\n",
    "first_fifth_distance = distance.euclidean(first_listing, fifth_listing)\n",
    "\n",
    "print(first_fifth_distance)"
   ]
  },
  {
   "cell_type": "markdown",
   "metadata": {},
   "source": [
    "Créons une fonction K-NN de prédiction d’un modèle multivarié"
   ]
  },
  {
   "cell_type": "code",
   "execution_count": 30,
   "metadata": {},
   "outputs": [
    {
     "name": "stdout",
     "output_type": "stream",
     "text": [
      "142.50\n"
     ]
    }
   ],
   "source": [
    "def predict_price_multivariate(new_listing_value, feature_columns):\n",
    "    temp_df = norm_train_df\n",
    "    temp_df['distance'] = distance.cdist(temp_df[feature_columns],[new_listing_value[feature_columns]])\n",
    "    temp_df = temp_df.sort_values('distance')\n",
    "    knn_5 = temp_df.price.iloc[:5]\n",
    "    predicted_price = knn_5.mean()\n",
    "    \n",
    "    return(predicted_price)\n",
    "    \n",
    "cols = ['accommodates', 'bathrooms']\n",
    "\n",
    "norm_test_df['predicted_price'] = norm_test_df[cols].apply(predict_price_multivariate,feature_columns=cols,axis=1)\n",
    "norm_test_df['squared_error'] = (norm_test_df['predicted_price'] - norm_test_df['price'])**(2)\n",
    "mse = norm_test_df['squared_error'].mean()\n",
    "rmse = mse ** (1/2)\n",
    "\n",
    "print(\"%.2f\" % rmse)"
   ]
  },
  {
   "cell_type": "markdown",
   "metadata": {},
   "source": [
    "Une façon de mieux comprendre si une certaine valeur RMSE est ”bonne” est\n",
    "de la normaliser a l’aide de la formule suivante : RMSEn = RMSE/(Ymax − Ymin)"
   ]
  },
  {
   "cell_type": "code",
   "execution_count": 32,
   "metadata": {},
   "outputs": [
    {
     "name": "stdout",
     "output_type": "stream",
     "text": [
      "0.051\n"
     ]
    }
   ],
   "source": [
    "normRMSE = rmse / (2822 - 10)\n",
    "\n",
    "print(\"%.3f\" % normRMSE)"
   ]
  },
  {
   "cell_type": "markdown",
   "metadata": {},
   "source": [
    "#### VI. Modèle KNN de Scikit-learn"
   ]
  },
  {
   "cell_type": "code",
   "execution_count": 33,
   "metadata": {},
   "outputs": [],
   "source": [
    "knn = KNeighborsRegressor(algorithm='brute', n_neighbors=7)"
   ]
  },
  {
   "cell_type": "code",
   "execution_count": 34,
   "metadata": {},
   "outputs": [],
   "source": [
    "knn.fit(norm_train_df[cols], norm_train_df['price'])\n",
    "two_features_predictions = knn.predict(norm_test_df[cols])"
   ]
  },
  {
   "cell_type": "code",
   "execution_count": 33,
   "metadata": {},
   "outputs": [
    {
     "name": "stdout",
     "output_type": "stream",
     "text": [
      "128.07\n"
     ]
    }
   ],
   "source": [
    "two_features_mse = mean_squared_error(norm_test_df['price'], two_features_predictions)\n",
    "two_features_rmse = two_features_mse ** (1/2)\n",
    "print(\"%.2f\" % two_features_rmse)"
   ]
  },
  {
   "cell_type": "markdown",
   "metadata": {},
   "source": [
    "Nous observons que notre RMSE est un peu différent de notre algorithme implémenté manuellement, cela est probablement dû à la fois aux différences de randomisation et a de légères différences d’implémentation entre notre algorithme KNN ”manuel” et la version scikit-learn."
   ]
  },
  {
   "cell_type": "code",
   "execution_count": 35,
   "metadata": {},
   "outputs": [
    {
     "name": "stdout",
     "output_type": "stream",
     "text": [
      "137.24\n"
     ]
    }
   ],
   "source": [
    "knn = KNeighborsRegressor(algorithm='brute')\n",
    "\n",
    "cols = [\"accommodates\",\"bathrooms\", \"beds\", \"bedrooms\"]\n",
    "\n",
    "knn.fit(norm_train_df[cols], norm_train_df['price'])\n",
    "four_features_predictions = knn.predict(norm_test_df[cols])\n",
    "four_features_mse = mean_squared_error(norm_test_df['price'], four_features_predictions)\n",
    "four_features_rmse = four_features_mse ** (1/2)\n",
    "\n",
    "print(\"%.2f\" % four_features_rmse)"
   ]
  },
  {
   "cell_type": "markdown",
   "metadata": {},
   "source": [
    "L’ajout de caractéristiques supplémentaires ne produit pas nécessairement un modèle plus précis.  Pour notre cas, l’utilisation de quatres caractéristiques ne fait pas de mal, mais imaginons le cas des entreprises comme Facebook ou Amazon qui ont des ensembles de données avec un nombre gigantesque de caractéristiques, il est impossible de tous les utiliser, c’est pourquoi il faut soigneusement choisir les caractéristiques les plus significatives."
   ]
  },
  {
   "cell_type": "code",
   "execution_count": 36,
   "metadata": {},
   "outputs": [
    {
     "name": "stdout",
     "output_type": "stream",
     "text": [
      "0.049\n"
     ]
    }
   ],
   "source": [
    "normRMSE = four_features_rmse / (dc_listings['price'].max() - dc_listings['price'].min())\n",
    "print(\"%.3f\" % normRMSE)"
   ]
  },
  {
   "cell_type": "markdown",
   "metadata": {},
   "source": [
    "Il serait préférable que le modèle principal à retenir comme solution à notre problème est le modèle qui utilisent les deux caractéristiques : accommodates et bathrooms, puisque la distance moyenne entre les prix prédits et les prix réels est la plus faible parmi tous les  modeles precedents, et il est le plus économique en terme de calcul et de temps."
   ]
  },
  {
   "cell_type": "markdown",
   "metadata": {},
   "source": [
    "## Conclusion"
   ]
  },
  {
   "cell_type": "markdown",
   "metadata": {},
   "source": [
    "En guise de conclusion, le modèle que nous avons créé peut être potentiellement intégrée dans la partie backend de la plateforme Airbnb, ou il génère automatiquement des recommandations de prix de location du logement dès que l’annonceur fait entrer les caractéristiques de ce dernier, chose qui offrira une agréable expérience à l'utilisateur puisqu'il lui économisera du temps et d’efforts."
   ]
  }
 ],
 "metadata": {
  "interpreter": {
   "hash": "e09e2495d28e878ed84d4140c4c8ebe23b227506b8c51f80b26a6061e135797b"
  },
  "kernelspec": {
   "display_name": "Python 3.9.13 64-bit",
   "language": "python",
   "name": "python3"
  },
  "language_info": {
   "codemirror_mode": {
    "name": "ipython",
    "version": 3
   },
   "file_extension": ".py",
   "mimetype": "text/x-python",
   "name": "python",
   "nbconvert_exporter": "python",
   "pygments_lexer": "ipython3",
   "version": "3.9.13"
  },
  "orig_nbformat": 4
 },
 "nbformat": 4,
 "nbformat_minor": 2
}
